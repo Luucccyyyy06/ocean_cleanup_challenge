{
  "nbformat": 4,
  "nbformat_minor": 0,
  "metadata": {
    "colab": {
      "provenance": []
    },
    "kernelspec": {
      "name": "python3",
      "display_name": "Python 3"
    },
    "language_info": {
      "name": "python"
    }
  },
  "cells": [
    {
      "cell_type": "markdown",
      "source": [
        "# Welcome to The Ocean Cleanup challenge!\n",
        "## This is the model-based annotation notebook starter\n",
        "This notebook will guide you to start leveraging predictions on the challenge. It will allow you to create your first predictions on your Kili project.\n",
        "\n",
        "It uses **Kili autoML repository** with powerful commands to train a classification model with labeled data, predict on unlabeled ones and push these predictions to your project.\n",
        "\n",
        "It also paves the way for you to **create your own model** and to use the **Kili Python SDK** to interact with your project and create predictions."
      ],
      "metadata": {
        "id": "Eo4oU5W4PAeA"
      }
    },
    {
      "cell_type": "markdown",
      "source": [
        "## Discover your Kili project and annotate some images"
      ],
      "metadata": {
        "id": "faDfdJM2L5cL"
      }
    },
    {
      "cell_type": "markdown",
      "source": [
        "Each team get a personnal project. \n",
        "\n",
        "Your project ID can be found on the URL of the project: https://cloud.kili-technology.com/label/projects/PROJECT_ID/menu/queue\n",
        "\n",
        "\n",
        "It looks like this: *clb551au002av0ky1em1w0opm*\n",
        " \n",
        "On your project, you have an **ADMIN role**. This allows you to explore settings, change quality metrics, add new images, etc... but mainly, **to use the API!**"
      ],
      "metadata": {
        "id": "ncpTz6rQmZYR"
      }
    },
    {
      "cell_type": "code",
      "source": [
        "project_id= 'clbaro2x401kp0lxv1isf56z5'"
      ],
      "metadata": {
        "id": "rQuNAtcQMYp8"
      },
      "execution_count": null,
      "outputs": []
    },
    {
      "cell_type": "code",
      "source": [
        "KILI_URL=\"https://cloud.kili-technology.com/\"\n",
        "PROJECT_URL = f\"{KILI_URL}label/projects/{project_id}\"\n",
        "print(\"Kili Project URL: \", PROJECT_URL)"
      ],
      "metadata": {
        "id": "HhQtU10qMIAk",
        "colab": {
          "base_uri": "https://localhost:8080/"
        },
        "outputId": "75920253-6c2d-4840-f75c-5db2d3db9739"
      },
      "execution_count": null,
      "outputs": [
        {
          "output_type": "stream",
          "name": "stdout",
          "text": [
            "Kili Project URL:  https://cloud.kili-technology.com/label/projects/clbaro2x401kp0lxv1isf56z5\n"
          ]
        }
      ]
    },
    {
      "cell_type": "markdown",
      "source": [
        "You can Explore your project on the Kili app and **begin to annotate some images**.\n",
        "\n",
        "Annotate fast because only the first 120 teams to reach 1000 annotated assets These labeled images will be useful when training your classification model "
      ],
      "metadata": {
        "id": "KEmMMfLqMrPM"
      }
    },
    {
      "cell_type": "markdown",
      "source": [
        "## Prerequisite step: Connect to your OVH image"
      ],
      "metadata": {
        "id": "_rBVUmHOfgwr"
      }
    },
    {
      "cell_type": "markdown",
      "source": [
        "**REMINDER: Only the first 120 teams to reach 1000 annotated assets will be given an access to OVH images with one GPU.** This will allow to train models much faster! \n",
        ":\n",
        "This notebook uses kiliautoML package which is not installed on Google Colab but which is on the given OVH images.\n",
        "\n",
        "### 1- Connect to the image\n",
        "To start, you can connect to your OVH image by clicking on the url that you received by mail. Then select \"login with token\" and enter the token that you received in the same mail.\n",
        "\n",
        "This will connect to a jupyter lab on your brower.\n",
        "\n",
        "### 2- Copy this notebook into your image\n",
        "Once you are connected to the OVH image, you can simply download this notebook and copy paste it to your image. \n",
        "\n",
        "You are now ready to run the notebook with super computation power!\n"
      ],
      "metadata": {
        "id": "0a_rYD5IfzOX"
      }
    },
    {
      "cell_type": "markdown",
      "source": [
        "If all the 120 access to OVH images have already been granted, you can still run this notebook on Google colab, for this, you will have to install the kiliautoml package with with the commands below:"
      ],
      "metadata": {
        "id": "iGps7p5YZ0dY"
      }
    },
    {
      "cell_type": "code",
      "source": [
        "# Only if launching from Google Colab\n",
        "\n",
        "!git clone https://github.com/kili-technology/automl.git\n",
        "%cd automl\n",
        "!git submodule update --init\n",
        "!pip install -e .\n",
        "os.environ[\"PYTHONPATH\"] += \":/content/automl/\""
      ],
      "metadata": {
        "id": "oZ-V-Q04l-GZ",
        "colab": {
          "base_uri": "https://localhost:8080/",
          "height": 1000
        },
        "outputId": "3c51bcf0-0dbc-4d2c-e88e-5d5e80da3cd3"
      },
      "execution_count": null,
      "outputs": [
        {
          "output_type": "stream",
          "name": "stdout",
          "text": [
            "Cloning into 'automl'...\n",
            "remote: Enumerating objects: 4643, done.\u001b[K\n",
            "remote: Counting objects: 100% (1590/1590), done.\u001b[K\n",
            "remote: Compressing objects: 100% (575/575), done.\u001b[K\n",
            "remote: Total 4643 (delta 1201), reused 1260 (delta 1004), pack-reused 3053\u001b[K\n",
            "Receiving objects: 100% (4643/4643), 45.64 MiB | 26.17 MiB/s, done.\n",
            "Resolving deltas: 100% (2700/2700), done.\n",
            "/content/automl/automl\n",
            "Submodule 'kiliautoml/utils/ultralytics/yolov5' (https://github.com/ultralytics/yolov5.git) registered for path 'kiliautoml/utils/ultralytics/yolov5'\n",
            "Cloning into '/content/automl/automl/kiliautoml/utils/ultralytics/yolov5'...\n",
            "Submodule path 'kiliautoml/utils/ultralytics/yolov5': checked out '3e858633b283767f038b4cab910a95e40fe8577b'\n",
            "Looking in indexes: https://pypi.org/simple, https://us-python.pkg.dev/colab-wheels/public/simple/\n",
            "Obtaining file:///content/automl/automl\n",
            "  Installing build dependencies ... \u001b[?25l\u001b[?25hdone\n",
            "  Getting requirements to build wheel ... \u001b[?25l\u001b[?25hdone\n",
            "    Preparing wheel metadata ... \u001b[?25l\u001b[?25hdone\n",
            "Collecting detectron2@ git+https://github.com/facebookresearch/detectron2.git\n",
            "  Cloning https://github.com/facebookresearch/detectron2.git to /tmp/pip-install-xur8j5h7/detectron2_bca1475903c244bcb6201574d35c6818\n",
            "  Running command git clone -q https://github.com/facebookresearch/detectron2.git /tmp/pip-install-xur8j5h7/detectron2_bca1475903c244bcb6201574d35c6818\n",
            "Requirement already satisfied: jinja2 in /usr/local/lib/python3.8/dist-packages (from kiliautoml==0.1.0) (2.11.3)\n",
            "Requirement already satisfied: scikit-learn in /usr/local/lib/python3.8/dist-packages (from kiliautoml==0.1.0) (1.0.2)\n",
            "Requirement already satisfied: tqdm in /usr/local/lib/python3.8/dist-packages (from kiliautoml==0.1.0) (4.64.1)\n",
            "Requirement already satisfied: nltk>=3.3 in /usr/local/lib/python3.8/dist-packages (from kiliautoml==0.1.0) (3.7)\n",
            "Requirement already satisfied: opencv-python>=4.1.2 in /usr/local/lib/python3.8/dist-packages (from kiliautoml==0.1.0) (4.6.0.66)\n",
            "Requirement already satisfied: requests in /usr/local/lib/python3.8/dist-packages (from kiliautoml==0.1.0) (2.23.0)\n",
            "Collecting loguru\n",
            "  Downloading loguru-0.6.0-py3-none-any.whl (58 kB)\n",
            "\u001b[K     |████████████████████████████████| 58 kB 3.4 MB/s \n",
            "\u001b[?25hRequirement already satisfied: scipy>=1.4.1 in /usr/local/lib/python3.8/dist-packages (from kiliautoml==0.1.0) (1.7.3)\n",
            "Requirement already satisfied: BeautifulSoup4 in /usr/local/lib/python3.8/dist-packages (from kiliautoml==0.1.0) (4.6.3)\n",
            "Requirement already satisfied: numpy>=1.18.5 in /usr/local/lib/python3.8/dist-packages (from kiliautoml==0.1.0) (1.21.6)\n",
            "Requirement already satisfied: matplotlib>=3.2.2 in /usr/local/lib/python3.8/dist-packages (from kiliautoml==0.1.0) (3.2.2)\n",
            "Requirement already satisfied: pydantic in /usr/local/lib/python3.8/dist-packages (from kiliautoml==0.1.0) (1.10.2)\n",
            "Requirement already satisfied: seaborn>=0.11.0 in /usr/local/lib/python3.8/dist-packages (from kiliautoml==0.1.0) (0.11.2)\n",
            "Collecting transformers\n",
            "  Downloading transformers-4.25.1-py3-none-any.whl (5.8 MB)\n",
            "\u001b[K     |████████████████████████████████| 5.8 MB 11.3 MB/s \n",
            "\u001b[?25hCollecting seqeval\n",
            "  Downloading seqeval-1.2.2.tar.gz (43 kB)\n",
            "\u001b[K     |████████████████████████████████| 43 kB 2.2 MB/s \n",
            "\u001b[?25hRequirement already satisfied: more-itertools in /usr/local/lib/python3.8/dist-packages (from kiliautoml==0.1.0) (9.0.0)\n",
            "Collecting ratelimit\n",
            "  Downloading ratelimit-2.2.1.tar.gz (5.3 kB)\n",
            "Requirement already satisfied: shapely in /usr/local/lib/python3.8/dist-packages (from kiliautoml==0.1.0) (1.8.5.post1)\n",
            "Collecting backoff\n",
            "  Downloading backoff-2.2.1-py3-none-any.whl (15 kB)\n",
            "Collecting cleanlab>=2.0.0\n",
            "  Downloading cleanlab-2.2.0-py3-none-any.whl (157 kB)\n",
            "\u001b[K     |████████████████████████████████| 157 kB 55.1 MB/s \n",
            "\u001b[?25hRequirement already satisfied: typing-extensions in /usr/local/lib/python3.8/dist-packages (from kiliautoml==0.1.0) (4.1.1)\n",
            "Collecting pytest-mock\n",
            "  Downloading pytest_mock-3.10.0-py3-none-any.whl (9.3 kB)\n",
            "Requirement already satisfied: tabulate in /usr/local/lib/python3.8/dist-packages (from kiliautoml==0.1.0) (0.8.10)\n",
            "Collecting img2vec-pytorch==1.0.1\n",
            "  Downloading img2vec_pytorch-1.0.1-py3-none-any.whl (6.9 kB)\n",
            "Collecting datasets<=2.2\n",
            "  Downloading datasets-2.2.0-py3-none-any.whl (342 kB)\n",
            "\u001b[K     |████████████████████████████████| 342 kB 67.3 MB/s \n",
            "\u001b[?25hRequirement already satisfied: Pillow>=7.1.2 in /usr/local/lib/python3.8/dist-packages (from kiliautoml==0.1.0) (7.1.2)\n",
            "Requirement already satisfied: termcolor in /usr/local/lib/python3.8/dist-packages (from kiliautoml==0.1.0) (2.1.1)\n",
            "Requirement already satisfied: PyYAML>=5.3.1 in /usr/local/lib/python3.8/dist-packages (from kiliautoml==0.1.0) (6.0)\n",
            "Requirement already satisfied: torchvision>=0.8.1 in /usr/local/lib/python3.8/dist-packages (from kiliautoml==0.1.0) (0.13.1+cu113)\n",
            "Requirement already satisfied: torch>=1.7.0 in /usr/local/lib/python3.8/dist-packages (from kiliautoml==0.1.0) (1.12.1+cu113)\n",
            "Requirement already satisfied: ipython in /usr/local/lib/python3.8/dist-packages (from kiliautoml==0.1.0) (7.9.0)\n",
            "Collecting evaluate\n",
            "  Downloading evaluate-0.3.0-py3-none-any.whl (72 kB)\n",
            "\u001b[K     |████████████████████████████████| 72 kB 1.6 MB/s \n",
            "\u001b[?25hCollecting thop\n",
            "  Downloading thop-0.1.1.post2209072238-py3-none-any.whl (15 kB)\n",
            "Requirement already satisfied: tensorboard>=2.4.1 in /usr/local/lib/python3.8/dist-packages (from kiliautoml==0.1.0) (2.9.1)\n",
            "Requirement already satisfied: wandb in /usr/local/lib/python3.8/dist-packages (from kiliautoml==0.1.0) (0.13.5)\n",
            "Collecting kili\n",
            "  Downloading kili-2.125.2-py3-none-any.whl (150 kB)\n",
            "\u001b[K     |████████████████████████████████| 150 kB 33.3 MB/s \n",
            "\u001b[?25hRequirement already satisfied: click in /usr/local/lib/python3.8/dist-packages (from kiliautoml==0.1.0) (7.1.2)\n",
            "Requirement already satisfied: pycocotools>=2.0.2 in /usr/local/lib/python3.8/dist-packages (from detectron2@ git+https://github.com/facebookresearch/detectron2.git->kiliautoml==0.1.0) (2.0.6)\n",
            "Collecting yacs>=0.1.8\n",
            "  Downloading yacs-0.1.8-py3-none-any.whl (14 kB)\n",
            "Requirement already satisfied: cloudpickle in /usr/local/lib/python3.8/dist-packages (from detectron2@ git+https://github.com/facebookresearch/detectron2.git->kiliautoml==0.1.0) (1.5.0)\n",
            "Collecting fvcore<0.1.6,>=0.1.5\n",
            "  Downloading fvcore-0.1.5.post20221122.tar.gz (50 kB)\n",
            "\u001b[K     |████████████████████████████████| 50 kB 7.0 MB/s \n",
            "\u001b[?25hCollecting iopath<0.1.10,>=0.1.7\n",
            "  Downloading iopath-0.1.9-py3-none-any.whl (27 kB)\n",
            "Requirement already satisfied: future in /usr/local/lib/python3.8/dist-packages (from detectron2@ git+https://github.com/facebookresearch/detectron2.git->kiliautoml==0.1.0) (0.16.0)\n",
            "Requirement already satisfied: pydot in /usr/local/lib/python3.8/dist-packages (from detectron2@ git+https://github.com/facebookresearch/detectron2.git->kiliautoml==0.1.0) (1.3.0)\n",
            "Collecting omegaconf>=2.1\n",
            "  Downloading omegaconf-2.2.3-py3-none-any.whl (79 kB)\n",
            "\u001b[K     |████████████████████████████████| 79 kB 8.6 MB/s \n",
            "\u001b[?25hCollecting hydra-core>=1.1\n",
            "  Downloading hydra_core-1.2.0-py3-none-any.whl (151 kB)\n",
            "\u001b[K     |████████████████████████████████| 151 kB 48.9 MB/s \n",
            "\u001b[?25hCollecting black==22.3.0\n",
            "  Downloading black-22.3.0-cp38-cp38-manylinux_2_17_x86_64.manylinux2014_x86_64.whl (1.5 MB)\n",
            "\u001b[K     |████████████████████████████████| 1.5 MB 56.0 MB/s \n",
            "\u001b[?25hCollecting timm\n",
            "  Downloading timm-0.6.12-py3-none-any.whl (549 kB)\n",
            "\u001b[K     |████████████████████████████████| 549 kB 49.7 MB/s \n",
            "\u001b[?25hCollecting fairscale\n",
            "  Downloading fairscale-0.4.12.tar.gz (255 kB)\n",
            "\u001b[K     |████████████████████████████████| 255 kB 70.0 MB/s \n",
            "\u001b[?25h  Installing build dependencies ... \u001b[?25l\u001b[?25hdone\n",
            "  Getting requirements to build wheel ... \u001b[?25l\u001b[?25hdone\n",
            "  Installing backend dependencies ... \u001b[?25l\u001b[?25hdone\n",
            "    Preparing wheel metadata ... \u001b[?25l\u001b[?25hdone\n",
            "Requirement already satisfied: packaging in /usr/local/lib/python3.8/dist-packages (from detectron2@ git+https://github.com/facebookresearch/detectron2.git->kiliautoml==0.1.0) (21.3)\n",
            "Collecting mypy-extensions>=0.4.3\n",
            "  Downloading mypy_extensions-0.4.3-py2.py3-none-any.whl (4.5 kB)\n",
            "Collecting click\n",
            "  Downloading click-8.1.3-py3-none-any.whl (96 kB)\n",
            "\u001b[K     |████████████████████████████████| 96 kB 6.1 MB/s \n",
            "\u001b[?25hCollecting pathspec>=0.9.0\n",
            "  Downloading pathspec-0.10.2-py3-none-any.whl (28 kB)\n",
            "Requirement already satisfied: tomli>=1.1.0 in /usr/local/lib/python3.8/dist-packages (from black==22.3.0->detectron2@ git+https://github.com/facebookresearch/detectron2.git->kiliautoml==0.1.0) (2.0.1)\n",
            "Collecting platformdirs>=2\n",
            "  Downloading platformdirs-2.5.4-py3-none-any.whl (14 kB)\n",
            "Requirement already satisfied: pandas>=1.0.0 in /usr/local/lib/python3.8/dist-packages (from cleanlab>=2.0.0->kiliautoml==0.1.0) (1.3.5)\n",
            "Requirement already satisfied: fsspec[http]>=2021.05.0 in /usr/local/lib/python3.8/dist-packages (from datasets<=2.2->kiliautoml==0.1.0) (2022.11.0)\n",
            "Requirement already satisfied: aiohttp in /usr/local/lib/python3.8/dist-packages (from datasets<=2.2->kiliautoml==0.1.0) (3.8.3)\n",
            "Requirement already satisfied: pyarrow>=6.0.0 in /usr/local/lib/python3.8/dist-packages (from datasets<=2.2->kiliautoml==0.1.0) (9.0.0)\n",
            "Collecting multiprocess\n",
            "  Downloading multiprocess-0.70.14-py38-none-any.whl (132 kB)\n",
            "\u001b[K     |████████████████████████████████| 132 kB 46.9 MB/s \n",
            "\u001b[?25hCollecting responses<0.19\n",
            "  Downloading responses-0.18.0-py3-none-any.whl (38 kB)\n",
            "Collecting huggingface-hub<1.0.0,>=0.1.0\n",
            "  Downloading huggingface_hub-0.11.1-py3-none-any.whl (182 kB)\n",
            "\u001b[K     |████████████████████████████████| 182 kB 52.8 MB/s \n",
            "\u001b[?25hCollecting xxhash\n",
            "  Downloading xxhash-3.1.0-cp38-cp38-manylinux_2_17_x86_64.manylinux2014_x86_64.whl (212 kB)\n",
            "\u001b[K     |████████████████████████████████| 212 kB 61.0 MB/s \n",
            "\u001b[?25hRequirement already satisfied: dill in /usr/local/lib/python3.8/dist-packages (from datasets<=2.2->kiliautoml==0.1.0) (0.3.6)\n",
            "Requirement already satisfied: frozenlist>=1.1.1 in /usr/local/lib/python3.8/dist-packages (from aiohttp->datasets<=2.2->kiliautoml==0.1.0) (1.3.3)\n",
            "Requirement already satisfied: yarl<2.0,>=1.0 in /usr/local/lib/python3.8/dist-packages (from aiohttp->datasets<=2.2->kiliautoml==0.1.0) (1.8.1)\n",
            "Requirement already satisfied: multidict<7.0,>=4.5 in /usr/local/lib/python3.8/dist-packages (from aiohttp->datasets<=2.2->kiliautoml==0.1.0) (6.0.2)\n",
            "Requirement already satisfied: aiosignal>=1.1.2 in /usr/local/lib/python3.8/dist-packages (from aiohttp->datasets<=2.2->kiliautoml==0.1.0) (1.3.1)\n",
            "Requirement already satisfied: attrs>=17.3.0 in /usr/local/lib/python3.8/dist-packages (from aiohttp->datasets<=2.2->kiliautoml==0.1.0) (22.1.0)\n",
            "Requirement already satisfied: charset-normalizer<3.0,>=2.0 in /usr/local/lib/python3.8/dist-packages (from aiohttp->datasets<=2.2->kiliautoml==0.1.0) (2.1.1)\n",
            "Requirement already satisfied: async-timeout<5.0,>=4.0.0a3 in /usr/local/lib/python3.8/dist-packages (from aiohttp->datasets<=2.2->kiliautoml==0.1.0) (4.0.2)\n",
            "Requirement already satisfied: filelock in /usr/local/lib/python3.8/dist-packages (from huggingface-hub<1.0.0,>=0.1.0->datasets<=2.2->kiliautoml==0.1.0) (3.8.0)\n",
            "Requirement already satisfied: importlib-resources in /usr/local/lib/python3.8/dist-packages (from hydra-core>=1.1->detectron2@ git+https://github.com/facebookresearch/detectron2.git->kiliautoml==0.1.0) (5.10.0)\n",
            "Collecting antlr4-python3-runtime==4.9.*\n",
            "  Downloading antlr4-python3-runtime-4.9.3.tar.gz (117 kB)\n",
            "\u001b[K     |████████████████████████████████| 117 kB 58.6 MB/s \n",
            "\u001b[?25hCollecting portalocker\n",
            "  Downloading portalocker-2.6.0-py2.py3-none-any.whl (15 kB)\n",
            "Requirement already satisfied: kiwisolver>=1.0.1 in /usr/local/lib/python3.8/dist-packages (from matplotlib>=3.2.2->kiliautoml==0.1.0) (1.4.4)\n",
            "Requirement already satisfied: cycler>=0.10 in /usr/local/lib/python3.8/dist-packages (from matplotlib>=3.2.2->kiliautoml==0.1.0) (0.11.0)\n",
            "Requirement already satisfied: python-dateutil>=2.1 in /usr/local/lib/python3.8/dist-packages (from matplotlib>=3.2.2->kiliautoml==0.1.0) (2.8.2)\n",
            "Requirement already satisfied: pyparsing!=2.0.4,!=2.1.2,!=2.1.6,>=2.0.1 in /usr/local/lib/python3.8/dist-packages (from matplotlib>=3.2.2->kiliautoml==0.1.0) (3.0.9)\n",
            "Requirement already satisfied: regex>=2021.8.3 in /usr/local/lib/python3.8/dist-packages (from nltk>=3.3->kiliautoml==0.1.0) (2022.6.2)\n",
            "Requirement already satisfied: joblib in /usr/local/lib/python3.8/dist-packages (from nltk>=3.3->kiliautoml==0.1.0) (1.2.0)\n",
            "Requirement already satisfied: pytz>=2017.3 in /usr/local/lib/python3.8/dist-packages (from pandas>=1.0.0->cleanlab>=2.0.0->kiliautoml==0.1.0) (2022.6)\n",
            "Requirement already satisfied: six>=1.5 in /usr/local/lib/python3.8/dist-packages (from python-dateutil>=2.1->matplotlib>=3.2.2->kiliautoml==0.1.0) (1.15.0)\n",
            "Requirement already satisfied: idna<3,>=2.5 in /usr/local/lib/python3.8/dist-packages (from requests->kiliautoml==0.1.0) (2.10)\n",
            "Requirement already satisfied: urllib3!=1.25.0,!=1.25.1,<1.26,>=1.21.1 in /usr/local/lib/python3.8/dist-packages (from requests->kiliautoml==0.1.0) (1.24.3)\n",
            "Requirement already satisfied: certifi>=2017.4.17 in /usr/local/lib/python3.8/dist-packages (from requests->kiliautoml==0.1.0) (2022.9.24)\n",
            "Requirement already satisfied: chardet<4,>=3.0.2 in /usr/local/lib/python3.8/dist-packages (from requests->kiliautoml==0.1.0) (3.0.4)\n",
            "Collecting urllib3!=1.25.0,!=1.25.1,<1.26,>=1.21.1\n",
            "  Downloading urllib3-1.25.11-py2.py3-none-any.whl (127 kB)\n",
            "\u001b[K     |████████████████████████████████| 127 kB 63.8 MB/s \n",
            "\u001b[?25hRequirement already satisfied: threadpoolctl>=2.0.0 in /usr/local/lib/python3.8/dist-packages (from scikit-learn->kiliautoml==0.1.0) (3.1.0)\n",
            "Requirement already satisfied: google-auth<3,>=1.6.3 in /usr/local/lib/python3.8/dist-packages (from tensorboard>=2.4.1->kiliautoml==0.1.0) (2.14.1)\n",
            "Requirement already satisfied: tensorboard-data-server<0.7.0,>=0.6.0 in /usr/local/lib/python3.8/dist-packages (from tensorboard>=2.4.1->kiliautoml==0.1.0) (0.6.1)\n",
            "Requirement already satisfied: protobuf<3.20,>=3.9.2 in /usr/local/lib/python3.8/dist-packages (from tensorboard>=2.4.1->kiliautoml==0.1.0) (3.19.6)\n",
            "Requirement already satisfied: setuptools>=41.0.0 in /usr/local/lib/python3.8/dist-packages (from tensorboard>=2.4.1->kiliautoml==0.1.0) (57.4.0)\n",
            "Requirement already satisfied: absl-py>=0.4 in /usr/local/lib/python3.8/dist-packages (from tensorboard>=2.4.1->kiliautoml==0.1.0) (1.3.0)\n",
            "Requirement already satisfied: werkzeug>=1.0.1 in /usr/local/lib/python3.8/dist-packages (from tensorboard>=2.4.1->kiliautoml==0.1.0) (1.0.1)\n",
            "Requirement already satisfied: wheel>=0.26 in /usr/local/lib/python3.8/dist-packages (from tensorboard>=2.4.1->kiliautoml==0.1.0) (0.38.4)\n",
            "Requirement already satisfied: tensorboard-plugin-wit>=1.6.0 in /usr/local/lib/python3.8/dist-packages (from tensorboard>=2.4.1->kiliautoml==0.1.0) (1.8.1)\n",
            "Requirement already satisfied: google-auth-oauthlib<0.5,>=0.4.1 in /usr/local/lib/python3.8/dist-packages (from tensorboard>=2.4.1->kiliautoml==0.1.0) (0.4.6)\n",
            "Requirement already satisfied: markdown>=2.6.8 in /usr/local/lib/python3.8/dist-packages (from tensorboard>=2.4.1->kiliautoml==0.1.0) (3.4.1)\n",
            "Requirement already satisfied: grpcio>=1.24.3 in /usr/local/lib/python3.8/dist-packages (from tensorboard>=2.4.1->kiliautoml==0.1.0) (1.50.0)\n",
            "Requirement already satisfied: pyasn1-modules>=0.2.1 in /usr/local/lib/python3.8/dist-packages (from google-auth<3,>=1.6.3->tensorboard>=2.4.1->kiliautoml==0.1.0) (0.2.8)\n",
            "Requirement already satisfied: cachetools<6.0,>=2.0.0 in /usr/local/lib/python3.8/dist-packages (from google-auth<3,>=1.6.3->tensorboard>=2.4.1->kiliautoml==0.1.0) (5.2.0)\n",
            "Requirement already satisfied: rsa<5,>=3.1.4 in /usr/local/lib/python3.8/dist-packages (from google-auth<3,>=1.6.3->tensorboard>=2.4.1->kiliautoml==0.1.0) (4.9)\n",
            "Requirement already satisfied: requests-oauthlib>=0.7.0 in /usr/local/lib/python3.8/dist-packages (from google-auth-oauthlib<0.5,>=0.4.1->tensorboard>=2.4.1->kiliautoml==0.1.0) (1.3.1)\n",
            "Requirement already satisfied: importlib-metadata>=4.4 in /usr/local/lib/python3.8/dist-packages (from markdown>=2.6.8->tensorboard>=2.4.1->kiliautoml==0.1.0) (4.13.0)\n",
            "Requirement already satisfied: zipp>=0.5 in /usr/local/lib/python3.8/dist-packages (from importlib-metadata>=4.4->markdown>=2.6.8->tensorboard>=2.4.1->kiliautoml==0.1.0) (3.10.0)\n",
            "Requirement already satisfied: pyasn1<0.5.0,>=0.4.6 in /usr/local/lib/python3.8/dist-packages (from pyasn1-modules>=0.2.1->google-auth<3,>=1.6.3->tensorboard>=2.4.1->kiliautoml==0.1.0) (0.4.8)\n",
            "Requirement already satisfied: oauthlib>=3.0.0 in /usr/local/lib/python3.8/dist-packages (from requests-oauthlib>=0.7.0->google-auth-oauthlib<0.5,>=0.4.1->tensorboard>=2.4.1->kiliautoml==0.1.0) (3.2.2)\n",
            "Collecting numpy\n",
            "  Downloading numpy-1.22.4-cp38-cp38-manylinux_2_17_x86_64.manylinux2014_x86_64.whl (16.9 MB)\n",
            "\u001b[K     |████████████████████████████████| 16.9 MB 385 kB/s \n",
            "\u001b[?25hRequirement already satisfied: decorator in /usr/local/lib/python3.8/dist-packages (from ipython->kiliautoml==0.1.0) (4.4.2)\n",
            "Requirement already satisfied: backcall in /usr/local/lib/python3.8/dist-packages (from ipython->kiliautoml==0.1.0) (0.2.0)\n",
            "Requirement already satisfied: traitlets>=4.2 in /usr/local/lib/python3.8/dist-packages (from ipython->kiliautoml==0.1.0) (5.1.1)\n",
            "Collecting jedi>=0.10\n",
            "  Downloading jedi-0.18.2-py2.py3-none-any.whl (1.6 MB)\n",
            "\u001b[K     |████████████████████████████████| 1.6 MB 56.7 MB/s \n",
            "\u001b[?25hRequirement already satisfied: pygments in /usr/local/lib/python3.8/dist-packages (from ipython->kiliautoml==0.1.0) (2.6.1)\n",
            "Requirement already satisfied: pexpect in /usr/local/lib/python3.8/dist-packages (from ipython->kiliautoml==0.1.0) (4.8.0)\n",
            "Requirement already satisfied: pickleshare in /usr/local/lib/python3.8/dist-packages (from ipython->kiliautoml==0.1.0) (0.7.5)\n",
            "Requirement already satisfied: prompt-toolkit<2.1.0,>=2.0.0 in /usr/local/lib/python3.8/dist-packages (from ipython->kiliautoml==0.1.0) (2.0.10)\n",
            "Requirement already satisfied: parso<0.9.0,>=0.8.0 in /usr/local/lib/python3.8/dist-packages (from jedi>=0.10->ipython->kiliautoml==0.1.0) (0.8.3)\n",
            "Requirement already satisfied: wcwidth in /usr/local/lib/python3.8/dist-packages (from prompt-toolkit<2.1.0,>=2.0.0->ipython->kiliautoml==0.1.0) (0.2.5)\n",
            "Requirement already satisfied: MarkupSafe>=0.23 in /usr/local/lib/python3.8/dist-packages (from jinja2->kiliautoml==0.1.0) (2.0.1)\n",
            "Requirement already satisfied: tenacity in /usr/local/lib/python3.8/dist-packages (from kili->kiliautoml==0.1.0) (8.1.0)\n",
            "Collecting websocket-client\n",
            "  Downloading websocket_client-1.4.2-py3-none-any.whl (55 kB)\n",
            "\u001b[K     |████████████████████████████████| 55 kB 3.5 MB/s \n",
            "\u001b[?25hCollecting kili\n",
            "  Downloading kili-2.125.1-py3-none-any.whl (140 kB)\n",
            "\u001b[K     |████████████████████████████████| 140 kB 49.5 MB/s \n",
            "\u001b[?25h  Downloading kili-2.125.0-py3-none-any.whl (140 kB)\n",
            "\u001b[K     |████████████████████████████████| 140 kB 76.0 MB/s \n",
            "\u001b[?25h  Downloading kili-2.124.3-py3-none-any.whl (147 kB)\n",
            "\u001b[K     |████████████████████████████████| 147 kB 73.3 MB/s \n",
            "\u001b[?25hRequirement already satisfied: typeguard in /usr/local/lib/python3.8/dist-packages (from kili->kiliautoml==0.1.0) (2.7.1)\n",
            "Collecting cuid\n",
            "  Downloading cuid-0.3.tar.gz (3.9 kB)\n",
            "Requirement already satisfied: ptyprocess>=0.5 in /usr/local/lib/python3.8/dist-packages (from pexpect->ipython->kiliautoml==0.1.0) (0.7.0)\n",
            "Collecting pytest>=5.0\n",
            "  Downloading pytest-7.2.0-py3-none-any.whl (316 kB)\n",
            "\u001b[K     |████████████████████████████████| 316 kB 55.0 MB/s \n",
            "\u001b[?25hCollecting pluggy<2.0,>=0.12\n",
            "  Downloading pluggy-1.0.0-py2.py3-none-any.whl (13 kB)\n",
            "Collecting iniconfig\n",
            "  Downloading iniconfig-1.1.1-py2.py3-none-any.whl (5.0 kB)\n",
            "Collecting exceptiongroup>=1.0.0rc8\n",
            "  Downloading exceptiongroup-1.0.4-py3-none-any.whl (14 kB)\n",
            "Collecting tokenizers!=0.11.3,<0.14,>=0.11.1\n",
            "  Downloading tokenizers-0.13.2-cp38-cp38-manylinux_2_17_x86_64.manylinux2014_x86_64.whl (7.6 MB)\n",
            "\u001b[K     |████████████████████████████████| 7.6 MB 50.6 MB/s \n",
            "\u001b[?25hRequirement already satisfied: GitPython>=1.0.0 in /usr/local/lib/python3.8/dist-packages (from wandb->kiliautoml==0.1.0) (3.1.29)\n",
            "Requirement already satisfied: psutil>=5.0.0 in /usr/local/lib/python3.8/dist-packages (from wandb->kiliautoml==0.1.0) (5.4.8)\n",
            "Requirement already satisfied: pathtools in /usr/local/lib/python3.8/dist-packages (from wandb->kiliautoml==0.1.0) (0.1.2)\n",
            "Requirement already satisfied: shortuuid>=0.5.0 in /usr/local/lib/python3.8/dist-packages (from wandb->kiliautoml==0.1.0) (1.0.11)\n",
            "Requirement already satisfied: sentry-sdk>=1.0.0 in /usr/local/lib/python3.8/dist-packages (from wandb->kiliautoml==0.1.0) (1.9.0)\n",
            "Requirement already satisfied: promise<3,>=2.0 in /usr/local/lib/python3.8/dist-packages (from wandb->kiliautoml==0.1.0) (2.3)\n",
            "Requirement already satisfied: docker-pycreds>=0.4.0 in /usr/local/lib/python3.8/dist-packages (from wandb->kiliautoml==0.1.0) (0.4.0)\n",
            "Requirement already satisfied: setproctitle in /usr/local/lib/python3.8/dist-packages (from wandb->kiliautoml==0.1.0) (1.3.2)\n",
            "Requirement already satisfied: gitdb<5,>=4.0.1 in /usr/local/lib/python3.8/dist-packages (from GitPython>=1.0.0->wandb->kiliautoml==0.1.0) (4.0.10)\n",
            "Requirement already satisfied: smmap<6,>=3.0.1 in /usr/local/lib/python3.8/dist-packages (from gitdb<5,>=4.0.1->GitPython>=1.0.0->wandb->kiliautoml==0.1.0) (5.0.0)\n",
            "Building wheels for collected packages: detectron2, fvcore, antlr4-python3-runtime, fairscale, cuid, ratelimit, seqeval\n",
            "  Building wheel for detectron2 (setup.py) ... \u001b[?25l\u001b[?25hdone\n",
            "  Created wheel for detectron2: filename=detectron2-0.6-cp38-cp38-linux_x86_64.whl size=4887463 sha256=d6ca3240886f95b0cb6a7e5a58ab4d604b18087c9e7f48031fcf2c8c8fae221b\n",
            "  Stored in directory: /tmp/pip-ephem-wheel-cache-z9q5jc6c/wheels/19/ac/65/e48e5e4ec2702274d927c5a6efb75709b24014371d3bb778f2\n",
            "  Building wheel for fvcore (setup.py) ... \u001b[?25l\u001b[?25hdone\n",
            "  Created wheel for fvcore: filename=fvcore-0.1.5.post20221122-py3-none-any.whl size=61484 sha256=8eadca557ef5718e35016818319272523e1c0734547f7f29076696e710ee64f4\n",
            "  Stored in directory: /root/.cache/pip/wheels/15/6e/e3/602889ca9c5c55020f8d205066445ac5b1b96df59f75170ca0\n",
            "  Building wheel for antlr4-python3-runtime (setup.py) ... \u001b[?25l\u001b[?25hdone\n",
            "  Created wheel for antlr4-python3-runtime: filename=antlr4_python3_runtime-4.9.3-py3-none-any.whl size=144575 sha256=fd9eb6a13d76cc27e3e8c97dfbbe31c248770c1e4262d4bf9c8741f504866034\n",
            "  Stored in directory: /root/.cache/pip/wheels/b1/a3/c2/6df046c09459b73cc9bb6c4401b0be6c47048baf9a1617c485\n",
            "  Building wheel for fairscale (PEP 517) ... \u001b[?25l\u001b[?25hdone\n",
            "  Created wheel for fairscale: filename=fairscale-0.4.12-py3-none-any.whl size=319612 sha256=44cc72bf50f082dd90fa9c3bc94e882b9ab4985321a97289417d68cdebdc11b0\n",
            "  Stored in directory: /root/.cache/pip/wheels/6c/f7/87/d33a928e890656736d88ee9f6e324886f57b3eedbe8fb904e8\n",
            "  Building wheel for cuid (setup.py) ... \u001b[?25l\u001b[?25hdone\n",
            "  Created wheel for cuid: filename=cuid-0.3-py2.py3-none-any.whl size=3650 sha256=fe291b15f03d15bb84e30343fe77dba67b6f1150dd3531d332d4f7636a3e264c\n",
            "  Stored in directory: /root/.cache/pip/wheels/d8/67/df/45fe0bf1f2d05dff6af2620447844b976762df80b3d2b8b565\n",
            "  Building wheel for ratelimit (setup.py) ... \u001b[?25l\u001b[?25hdone\n",
            "  Created wheel for ratelimit: filename=ratelimit-2.2.1-py3-none-any.whl size=5909 sha256=2e0dc0f01643f3001720be30a39f3da3fefa222ca9984a576a25f80850e1dcfd\n",
            "  Stored in directory: /root/.cache/pip/wheels/8e/34/5e/1dd3d652594bdf5df01109a683a455121d0b726978051bf720\n",
            "  Building wheel for seqeval (setup.py) ... \u001b[?25l\u001b[?25hdone\n",
            "  Created wheel for seqeval: filename=seqeval-1.2.2-py3-none-any.whl size=16179 sha256=19e6294031ba6f43ee7c5a025e8af02d7d52504de1c164f8f1f1ee6b10284924\n",
            "  Stored in directory: /root/.cache/pip/wheels/ad/5c/ba/05fa33fa5855777b7d686e843ec07452f22a66a138e290e732\n",
            "Successfully built detectron2 fvcore antlr4-python3-runtime fairscale cuid ratelimit seqeval\n",
            "Installing collected packages: urllib3, portalocker, numpy, antlr4-python3-runtime, yacs, xxhash, responses, pluggy, platformdirs, pathspec, omegaconf, mypy-extensions, multiprocess, iopath, iniconfig, huggingface-hub, exceptiongroup, click, websocket-client, tokenizers, timm, pytest, jedi, hydra-core, fvcore, fairscale, datasets, cuid, black, transformers, thop, seqeval, ratelimit, pytest-mock, loguru, kili, img2vec-pytorch, evaluate, detectron2, cleanlab, backoff, kiliautoml\n",
            "  Attempting uninstall: urllib3\n",
            "    Found existing installation: urllib3 1.24.3\n",
            "    Uninstalling urllib3-1.24.3:\n",
            "      Successfully uninstalled urllib3-1.24.3\n",
            "  Attempting uninstall: numpy\n",
            "    Found existing installation: numpy 1.21.6\n",
            "    Uninstalling numpy-1.21.6:\n",
            "      Successfully uninstalled numpy-1.21.6\n",
            "  Attempting uninstall: pluggy\n",
            "    Found existing installation: pluggy 0.7.1\n",
            "    Uninstalling pluggy-0.7.1:\n",
            "      Successfully uninstalled pluggy-0.7.1\n",
            "  Attempting uninstall: click\n",
            "    Found existing installation: click 7.1.2\n",
            "    Uninstalling click-7.1.2:\n",
            "      Successfully uninstalled click-7.1.2\n",
            "  Attempting uninstall: pytest\n",
            "    Found existing installation: pytest 3.6.4\n",
            "    Uninstalling pytest-3.6.4:\n",
            "      Successfully uninstalled pytest-3.6.4\n",
            "  Running setup.py develop for kiliautoml\n",
            "\u001b[31mERROR: pip's dependency resolver does not currently take into account all the packages that are installed. This behaviour is the source of the following dependency conflicts.\n",
            "flask 1.1.4 requires click<8.0,>=5.1, but you have click 8.1.3 which is incompatible.\u001b[0m\n",
            "Successfully installed antlr4-python3-runtime-4.9.3 backoff-2.2.1 black-22.3.0 cleanlab-2.2.0 click-8.1.3 cuid-0.3 datasets-2.2.0 detectron2-0.6 evaluate-0.3.0 exceptiongroup-1.0.4 fairscale-0.4.12 fvcore-0.1.5.post20221122 huggingface-hub-0.11.1 hydra-core-1.2.0 img2vec-pytorch-1.0.1 iniconfig-1.1.1 iopath-0.1.9 jedi-0.18.2 kili-2.124.3 kiliautoml loguru-0.6.0 multiprocess-0.70.14 mypy-extensions-0.4.3 numpy-1.22.4 omegaconf-2.2.3 pathspec-0.10.2 platformdirs-2.5.4 pluggy-1.0.0 portalocker-2.6.0 pytest-7.2.0 pytest-mock-3.10.0 ratelimit-2.2.1 responses-0.18.0 seqeval-1.2.2 thop-0.1.1.post2209072238 timm-0.6.12 tokenizers-0.13.2 transformers-4.25.1 urllib3-1.25.11 websocket-client-1.4.2 xxhash-3.1.0 yacs-0.1.8\n"
          ]
        },
        {
          "output_type": "display_data",
          "data": {
            "application/vnd.colab-display-data+json": {
              "pip_warning": {
                "packages": [
                  "click",
                  "numpy",
                  "pydevd_plugins",
                  "urllib3"
                ]
              }
            }
          },
          "metadata": {}
        }
      ]
    },
    {
      "cell_type": "code",
      "source": [
        "# If you are on an OVH image, you may need to get the latest version of automl by uncommenting and running:\n",
        "# !cd /workspace/.automllib && git pull"
      ],
      "metadata": {
        "id": "ReM0GgpYpc-C"
      },
      "execution_count": null,
      "outputs": []
    },
    {
      "cell_type": "markdown",
      "source": [
        "## Setup Kili and Weight and Biases"
      ],
      "metadata": {
        "id": "NyGm18WpEtVD"
      }
    },
    {
      "cell_type": "code",
      "source": [
        "from getpass import getpass\n",
        "from tqdm.autonotebook import tqdm\n",
        "import os\n",
        "from IPython import get_ipython"
      ],
      "metadata": {
        "id": "u2SXQK1MEyT8"
      },
      "execution_count": null,
      "outputs": []
    },
    {
      "cell_type": "markdown",
      "source": [
        "### Kili\n"
      ],
      "metadata": {
        "id": "_Q9xvp7ZEz2r"
      }
    },
    {
      "cell_type": "markdown",
      "source": [
        "You can add and retrieve your Kili API Key [here](https://cloud.kili-technology.com/label/my-account/api-key\")\n",
        "Once you have it, you can export it into an environement variable called `KILI_API_KEY` or enter it each time with `getpass`"
      ],
      "metadata": {
        "id": "HLlu9QpCmq7I"
      }
    },
    {
      "cell_type": "code",
      "source": [
        "print(\"You can add a Kili API Key here: https://cloud.kili-technology.com/label/my-account/api-key\")\n",
        "api_key = os.getenv(\"KILI_API_KEY\")\n",
        "if api_key is None:\n",
        "  api_key = getpass(\"Kili API Key: \")"
      ],
      "metadata": {
        "id": "Tl3Nqi6aE2Lr",
        "colab": {
          "base_uri": "https://localhost:8080/"
        },
        "outputId": "8b0a875e-10fa-45f2-ff45-e20bcdb0da87"
      },
      "execution_count": null,
      "outputs": [
        {
          "name": "stdout",
          "output_type": "stream",
          "text": [
            "You can add a Kili API Key here: https://cloud.kili-technology.com/label/my-account/api-key\n",
            "Kili API Key: ··········\n"
          ]
        }
      ]
    },
    {
      "cell_type": "markdown",
      "source": [
        "### Weight and Baises"
      ],
      "metadata": {
        "id": "HIy87-9TGMnN"
      }
    },
    {
      "cell_type": "code",
      "source": [
        "!pip install wandb"
      ],
      "metadata": {
        "colab": {
          "base_uri": "https://localhost:8080/"
        },
        "id": "tDyfHGgzSA2v",
        "outputId": "ab0909be-b583-4456-aff7-24232c727054"
      },
      "execution_count": null,
      "outputs": [
        {
          "output_type": "stream",
          "name": "stdout",
          "text": [
            "Looking in indexes: https://pypi.org/simple, https://us-python.pkg.dev/colab-wheels/public/simple/\n",
            "Collecting wandb\n",
            "  Downloading wandb-0.13.5-py2.py3-none-any.whl (1.9 MB)\n",
            "\u001b[K     |████████████████████████████████| 1.9 MB 8.4 MB/s \n",
            "\u001b[?25hRequirement already satisfied: psutil>=5.0.0 in /usr/local/lib/python3.8/dist-packages (from wandb) (5.4.8)\n",
            "Requirement already satisfied: PyYAML in /usr/local/lib/python3.8/dist-packages (from wandb) (6.0)\n",
            "Collecting setproctitle\n",
            "  Downloading setproctitle-1.3.2-cp38-cp38-manylinux_2_5_x86_64.manylinux1_x86_64.manylinux_2_17_x86_64.manylinux2014_x86_64.whl (31 kB)\n",
            "Requirement already satisfied: promise<3,>=2.0 in /usr/local/lib/python3.8/dist-packages (from wandb) (2.3)\n",
            "Collecting sentry-sdk>=1.0.0\n",
            "  Downloading sentry_sdk-1.11.1-py2.py3-none-any.whl (168 kB)\n",
            "\u001b[K     |████████████████████████████████| 168 kB 55.6 MB/s \n",
            "\u001b[?25hCollecting docker-pycreds>=0.4.0\n",
            "  Downloading docker_pycreds-0.4.0-py2.py3-none-any.whl (9.0 kB)\n",
            "Collecting GitPython>=1.0.0\n",
            "  Downloading GitPython-3.1.29-py3-none-any.whl (182 kB)\n",
            "\u001b[K     |████████████████████████████████| 182 kB 56.6 MB/s \n",
            "\u001b[?25hCollecting shortuuid>=0.5.0\n",
            "  Downloading shortuuid-1.0.11-py3-none-any.whl (10 kB)\n",
            "Requirement already satisfied: protobuf!=4.0.*,!=4.21.0,<5,>=3.12.0 in /usr/local/lib/python3.8/dist-packages (from wandb) (3.19.6)\n",
            "Requirement already satisfied: setuptools in /usr/local/lib/python3.8/dist-packages (from wandb) (57.4.0)\n",
            "Requirement already satisfied: six>=1.13.0 in /usr/local/lib/python3.8/dist-packages (from wandb) (1.15.0)\n",
            "Collecting pathtools\n",
            "  Downloading pathtools-0.1.2.tar.gz (11 kB)\n",
            "Requirement already satisfied: requests<3,>=2.0.0 in /usr/local/lib/python3.8/dist-packages (from wandb) (2.23.0)\n",
            "Requirement already satisfied: Click!=8.0.0,>=7.0 in /usr/local/lib/python3.8/dist-packages (from wandb) (7.1.2)\n",
            "Collecting gitdb<5,>=4.0.1\n",
            "  Downloading gitdb-4.0.10-py3-none-any.whl (62 kB)\n",
            "\u001b[K     |████████████████████████████████| 62 kB 1.5 MB/s \n",
            "\u001b[?25hCollecting smmap<6,>=3.0.1\n",
            "  Downloading smmap-5.0.0-py3-none-any.whl (24 kB)\n",
            "Requirement already satisfied: idna<3,>=2.5 in /usr/local/lib/python3.8/dist-packages (from requests<3,>=2.0.0->wandb) (2.10)\n",
            "Requirement already satisfied: certifi>=2017.4.17 in /usr/local/lib/python3.8/dist-packages (from requests<3,>=2.0.0->wandb) (2022.9.24)\n",
            "Requirement already satisfied: chardet<4,>=3.0.2 in /usr/local/lib/python3.8/dist-packages (from requests<3,>=2.0.0->wandb) (3.0.4)\n",
            "Requirement already satisfied: urllib3!=1.25.0,!=1.25.1,<1.26,>=1.21.1 in /usr/local/lib/python3.8/dist-packages (from requests<3,>=2.0.0->wandb) (1.24.3)\n",
            "Collecting sentry-sdk>=1.0.0\n",
            "  Downloading sentry_sdk-1.11.0-py2.py3-none-any.whl (168 kB)\n",
            "\u001b[K     |████████████████████████████████| 168 kB 54.8 MB/s \n",
            "\u001b[?25h  Downloading sentry_sdk-1.10.1-py2.py3-none-any.whl (166 kB)\n",
            "\u001b[K     |████████████████████████████████| 166 kB 55.6 MB/s \n",
            "\u001b[?25h  Downloading sentry_sdk-1.10.0-py2.py3-none-any.whl (166 kB)\n",
            "\u001b[K     |████████████████████████████████| 166 kB 51.1 MB/s \n",
            "\u001b[?25h  Downloading sentry_sdk-1.9.10-py2.py3-none-any.whl (162 kB)\n",
            "\u001b[K     |████████████████████████████████| 162 kB 35.1 MB/s \n",
            "\u001b[?25h  Downloading sentry_sdk-1.9.9-py2.py3-none-any.whl (162 kB)\n",
            "\u001b[K     |████████████████████████████████| 162 kB 56.6 MB/s \n",
            "\u001b[?25h  Downloading sentry_sdk-1.9.8-py2.py3-none-any.whl (158 kB)\n",
            "\u001b[K     |████████████████████████████████| 158 kB 58.5 MB/s \n",
            "\u001b[?25h  Downloading sentry_sdk-1.9.7-py2.py3-none-any.whl (157 kB)\n",
            "\u001b[K     |████████████████████████████████| 157 kB 55.3 MB/s \n",
            "\u001b[?25h  Downloading sentry_sdk-1.9.6-py2.py3-none-any.whl (157 kB)\n",
            "\u001b[K     |████████████████████████████████| 157 kB 49.7 MB/s \n",
            "\u001b[?25h  Downloading sentry_sdk-1.9.5-py2.py3-none-any.whl (157 kB)\n",
            "\u001b[K     |████████████████████████████████| 157 kB 47.8 MB/s \n",
            "\u001b[?25h  Downloading sentry_sdk-1.9.4-py2.py3-none-any.whl (157 kB)\n",
            "\u001b[K     |████████████████████████████████| 157 kB 51.3 MB/s \n",
            "\u001b[?25h  Downloading sentry_sdk-1.9.3-py2.py3-none-any.whl (157 kB)\n",
            "\u001b[K     |████████████████████████████████| 157 kB 57.0 MB/s \n",
            "\u001b[?25h  Downloading sentry_sdk-1.9.2-py2.py3-none-any.whl (157 kB)\n",
            "\u001b[K     |████████████████████████████████| 157 kB 56.1 MB/s \n",
            "\u001b[?25h  Downloading sentry_sdk-1.9.1-py2.py3-none-any.whl (157 kB)\n",
            "\u001b[K     |████████████████████████████████| 157 kB 55.3 MB/s \n",
            "\u001b[?25h  Downloading sentry_sdk-1.9.0-py2.py3-none-any.whl (156 kB)\n",
            "\u001b[K     |████████████████████████████████| 156 kB 63.6 MB/s \n",
            "\u001b[?25hBuilding wheels for collected packages: pathtools\n",
            "  Building wheel for pathtools (setup.py) ... \u001b[?25l\u001b[?25hdone\n",
            "  Created wheel for pathtools: filename=pathtools-0.1.2-py3-none-any.whl size=8806 sha256=b430777ff6defe1c782130cbc0aaa4b7cba7071933826b1cd37be41f4dee5826\n",
            "  Stored in directory: /root/.cache/pip/wheels/4c/8e/7e/72fbc243e1aeecae64a96875432e70d4e92f3d2d18123be004\n",
            "Successfully built pathtools\n",
            "Installing collected packages: smmap, gitdb, shortuuid, setproctitle, sentry-sdk, pathtools, GitPython, docker-pycreds, wandb\n",
            "Successfully installed GitPython-3.1.29 docker-pycreds-0.4.0 gitdb-4.0.10 pathtools-0.1.2 sentry-sdk-1.9.0 setproctitle-1.3.2 shortuuid-1.0.11 smmap-5.0.0 wandb-0.13.5\n"
          ]
        }
      ]
    },
    {
      "cell_type": "code",
      "source": [
        "import wandb\n",
        "wandb.login()"
      ],
      "metadata": {
        "id": "5sFGlDHRGH-w",
        "colab": {
          "base_uri": "https://localhost:8080/",
          "height": 136
        },
        "outputId": "9106bd02-89a9-4ffb-8d29-bcebabc29cf5"
      },
      "execution_count": null,
      "outputs": [
        {
          "output_type": "stream",
          "name": "stderr",
          "text": [
            "ERROR:wandb.jupyter:Failed to detect the name of this notebook, you can set it manually with the WANDB_NOTEBOOK_NAME environment variable to enable code saving.\n"
          ]
        },
        {
          "output_type": "display_data",
          "data": {
            "text/plain": [
              "<IPython.core.display.Javascript object>"
            ],
            "application/javascript": [
              "\n",
              "        window._wandbApiKey = new Promise((resolve, reject) => {\n",
              "            function loadScript(url) {\n",
              "            return new Promise(function(resolve, reject) {\n",
              "                let newScript = document.createElement(\"script\");\n",
              "                newScript.onerror = reject;\n",
              "                newScript.onload = resolve;\n",
              "                document.body.appendChild(newScript);\n",
              "                newScript.src = url;\n",
              "            });\n",
              "            }\n",
              "            loadScript(\"https://cdn.jsdelivr.net/npm/postmate/build/postmate.min.js\").then(() => {\n",
              "            const iframe = document.createElement('iframe')\n",
              "            iframe.style.cssText = \"width:0;height:0;border:none\"\n",
              "            document.body.appendChild(iframe)\n",
              "            const handshake = new Postmate({\n",
              "                container: iframe,\n",
              "                url: 'https://wandb.ai/authorize'\n",
              "            });\n",
              "            const timeout = setTimeout(() => reject(\"Couldn't auto authenticate\"), 5000)\n",
              "            handshake.then(function(child) {\n",
              "                child.on('authorize', data => {\n",
              "                    clearTimeout(timeout)\n",
              "                    resolve(data)\n",
              "                });\n",
              "            });\n",
              "            })\n",
              "        });\n",
              "    "
            ]
          },
          "metadata": {}
        },
        {
          "output_type": "stream",
          "name": "stderr",
          "text": [
            "\u001b[34m\u001b[1mwandb\u001b[0m: Logging into wandb.ai. (Learn how to deploy a W&B server locally: https://wandb.me/wandb-server)\n",
            "\u001b[34m\u001b[1mwandb\u001b[0m: You can find your API key in your browser here: https://wandb.ai/authorize\n",
            "wandb: Paste an API key from your profile and hit enter, or press ctrl+c to quit: "
          ]
        },
        {
          "name": "stdout",
          "output_type": "stream",
          "text": [
            "··········\n"
          ]
        },
        {
          "output_type": "stream",
          "name": "stderr",
          "text": [
            "\u001b[34m\u001b[1mwandb\u001b[0m: Appending key for api.wandb.ai to your netrc file: /root/.netrc\n"
          ]
        },
        {
          "output_type": "execute_result",
          "data": {
            "text/plain": [
              "True"
            ]
          },
          "metadata": {},
          "execution_count": 8
        }
      ]
    },
    {
      "cell_type": "markdown",
      "source": [
        "## Train a model"
      ],
      "metadata": {
        "id": "Zfj_tj3NG_-5"
      }
    },
    {
      "cell_type": "markdown",
      "source": [
        "The following `train` command of autoML will automatically:\n",
        "\n",
        "\n",
        "1.   Download the labeled assets. **Make sure that you have already annotated some images on your project!** \n",
        "2.   Choose the right model for your task, here a classification\n",
        "3.   train the model with this data\n",
        "4.   save the model locally\n",
        "\n",
        "OVH Images with dedicated GPU will help you train your model much faster!"
      ],
      "metadata": {
        "id": "Q-bV8YoLJGPF"
      }
    },
    {
      "cell_type": "code",
      "source": [
        "!kiliautoml train"
      ],
      "metadata": {
        "colab": {
          "base_uri": "https://localhost:8080/"
        },
        "id": "oGALR1-gUEVO",
        "outputId": "ba9c876e-01a4-431c-f4b7-fc1c9bd6e057"
      },
      "execution_count": null,
      "outputs": [
        {
          "output_type": "stream",
          "name": "stdout",
          "text": [
            "Traceback (most recent call last):\n",
            "  File \"/usr/bin/kiliautoml\", line 33, in <module>\n",
            "    sys.exit(load_entry_point('kiliautoml', 'console_scripts', 'kiliautoml')())\n",
            "  File \"/usr/bin/kiliautoml\", line 22, in importlib_load_entry_point\n",
            "    for entry_point in distribution(dist_name).entry_points\n",
            "  File \"/usr/lib/python3.8/importlib/metadata.py\", line 503, in distribution\n",
            "    return Distribution.from_name(distribution_name)\n",
            "  File \"/usr/lib/python3.8/importlib/metadata.py\", line 177, in from_name\n",
            "    raise PackageNotFoundError(name)\n",
            "importlib.metadata.PackageNotFoundError: kiliautoml\n"
          ]
        }
      ]
    },
    {
      "cell_type": "code",
      "source": [
        "!PYTHONPATH=/workspace/.automllib kiliautoml train \\\n",
        "    --api-key $api_key \\\n",
        "    --project-id $project_id \\\n",
        "    --epochs 30"
      ],
      "metadata": {
        "id": "-UfS91v1HNYT",
        "colab": {
          "base_uri": "https://localhost:8080/"
        },
        "outputId": "d556b5a1-24ca-4e2c-e334-153a6b86031c"
      },
      "execution_count": null,
      "outputs": [
        {
          "output_type": "stream",
          "name": "stdout",
          "text": [
            "Traceback (most recent call last):\n",
            "  File \"/usr/bin/kiliautoml\", line 33, in <module>\n",
            "    sys.exit(load_entry_point('kiliautoml', 'console_scripts', 'kiliautoml')())\n",
            "  File \"/usr/bin/kiliautoml\", line 22, in importlib_load_entry_point\n",
            "    for entry_point in distribution(dist_name).entry_points\n",
            "  File \"/usr/lib/python3.8/importlib/metadata.py\", line 503, in distribution\n",
            "    return Distribution.from_name(distribution_name)\n",
            "  File \"/usr/lib/python3.8/importlib/metadata.py\", line 177, in from_name\n",
            "    raise PackageNotFoundError(name)\n",
            "importlib.metadata.PackageNotFoundError: kiliautoml\n"
          ]
        }
      ]
    },
    {
      "cell_type": "markdown",
      "source": [
        "## create predictions"
      ],
      "metadata": {
        "id": "qS9YDg9WJndj"
      }
    },
    {
      "cell_type": "markdown",
      "source": [
        "The `predict`is another all-in-one command from autoML that\n",
        "\n",
        "\n",
        "1.   Download all unlabeled data\n",
        "2.   predict a label on these data using the previously trained model\n",
        "3.   send the predictions to the Kili project\n",
        "\n",
        "You can use the `--dry-run` option to predict on images but do not send these predictions to your project."
      ],
      "metadata": {
        "id": "rRIbDe0RJv8h"
      }
    },
    {
      "cell_type": "code",
      "source": [
        "!PYTHONPATH=/workspace/.automllib kiliautoml predict \\\n",
        "    --api-key $api_key \\\n",
        "    --project-id $project_id \\\n",
        "    #--dry-run"
      ],
      "metadata": {
        "id": "PPsTB4bIJtct",
        "colab": {
          "base_uri": "https://localhost:8080/"
        },
        "outputId": "25676480-a732-4cce-a204-5174d1cd98dc"
      },
      "execution_count": null,
      "outputs": [
        {
          "output_type": "stream",
          "name": "stdout",
          "text": [
            "Traceback (most recent call last):\n",
            "  File \"/usr/bin/kiliautoml\", line 33, in <module>\n",
            "    sys.exit(load_entry_point('kiliautoml', 'console_scripts', 'kiliautoml')())\n",
            "  File \"/usr/bin/kiliautoml\", line 22, in importlib_load_entry_point\n",
            "    for entry_point in distribution(dist_name).entry_points\n",
            "  File \"/usr/lib/python3.8/importlib/metadata.py\", line 503, in distribution\n",
            "    return Distribution.from_name(distribution_name)\n",
            "  File \"/usr/lib/python3.8/importlib/metadata.py\", line 177, in from_name\n",
            "    raise PackageNotFoundError(name)\n",
            "importlib.metadata.PackageNotFoundError: kiliautoml\n"
          ]
        }
      ]
    },
    {
      "cell_type": "markdown",
      "source": [
        "You are now ready to go to your project and visualize these predictions!"
      ],
      "metadata": {
        "id": "6A2A3CoeoGhS"
      }
    },
    {
      "cell_type": "code",
      "source": [
        "print(\"Kili Project URL: \", PROJECT_URL)"
      ],
      "metadata": {
        "id": "2rdHjVEpoOtV"
      },
      "execution_count": null,
      "outputs": []
    },
    {
      "cell_type": "markdown",
      "source": [
        "## Next steps"
      ],
      "metadata": {
        "id": "cIfci4FxLa9t"
      }
    },
    {
      "cell_type": "markdown",
      "source": [
        "Kili autoML is a very easy first start if you want to create predictions. You now have 2 ways to improve your predictions:\n",
        "\n",
        "\n",
        "1.   Annotate more images in your projects. You now have predictions on images that you can see on the app so it will be even faster to annotate! Then train and predict again, you are building an iteratively better model and more accurate annotations!\n",
        "2.   Train your own custom model, and use our [Kili Python SDK](https://python-sdk-docs.kili-technology.com/2.125/) package to interact with your project. The main functions that you need are:\n",
        "\n",
        "    *   [assets](https://python-sdk-docs.kili-technology.com/2.125/sdk/asset/#kili.queries.asset.__init__.QueriesAsset.assets) to query and download locally the images and the labels from your project\n",
        "    *   [create_predictions](https://python-sdk-docs.kili-technology.com/2.125/sdk/label/#kili.mutations.label.__init__.MutationsLabel.create_predictions) to push your predictions to your Kili project\n",
        "\n",
        "\n",
        "\n"
      ],
      "metadata": {
        "id": "nO2GHZ5bLekI"
      }
    },
    {
      "cell_type": "markdown",
      "source": [
        "## Use the Kili Python SDK"
      ],
      "metadata": {
        "id": "upqHnG-7bMbE"
      }
    },
    {
      "cell_type": "code",
      "source": [
        "from kili.client import Kili\n",
        "kili = Kili(api_key=api_key)"
      ],
      "metadata": {
        "id": "AwEQpZ7ESdrQ"
      },
      "execution_count": null,
      "outputs": []
    },
    {
      "cell_type": "markdown",
      "source": [
        "### Download assets locally "
      ],
      "metadata": {
        "id": "ATpq_G2ekZZv"
      }
    },
    {
      "cell_type": "code",
      "source": [
        "assets = kili.assets(\n",
        "    project_id=project_id,\n",
        "    status_in=['LABELED'],\n",
        "    download_media=True,\n",
        "    local_media_dir='./data/ocean_cleanup_challenge'\n",
        "    )"
      ],
      "metadata": {
        "id": "4_Y7Ikf-SfD0"
      },
      "execution_count": null,
      "outputs": []
    },
    {
      "cell_type": "code",
      "source": [
        "import pandas as pd\n",
        "pd.DataFrame(assets).head()"
      ],
      "metadata": {
        "id": "lQAdjG9PaFCg"
      },
      "execution_count": null,
      "outputs": []
    },
    {
      "cell_type": "markdown",
      "source": [
        "### Create predictions\n",
        "`kiliautoml` package uses the `create_predictions` function to push predictions to Kili. If you trained a custom model and that you have your own predictions on the previsouly download assets, you can use this function to upload your predictions!"
      ],
      "metadata": {
        "id": "3ZnH3a9c-yXM"
      }
    },
    {
      "cell_type": "code",
      "source": [
        "def build_response(category, confidence):\n",
        "  \"\"\"Helper function to build the json_response at the Kili format\"\"\"\n",
        "  return {\n",
        "    'CLASSIFICATION_JOB': {\n",
        "            'categories': [\n",
        "            {\n",
        "                'confidence': confidence,\n",
        "                'name': category\n",
        "            }\n",
        "        ]\n",
        "    }\n",
        "}"
      ],
      "metadata": {
        "id": "iD-ouR8MY4Gb"
      },
      "execution_count": null,
      "outputs": []
    },
    {
      "cell_type": "code",
      "source": [
        "kili.create_predictions(\n",
        "    project_id=project_id,\n",
        "    external_id_array = ['1', '2', '3'],\n",
        "    model_name_array = ['test_model']*3,\n",
        "    json_response_array = [build_response('MARINE_LIFE_OR_VEGETATION', 100)]*3\n",
        "    )"
      ],
      "metadata": {
        "id": "CF2lmxdRVxzt"
      },
      "execution_count": null,
      "outputs": []
    },
    {
      "cell_type": "markdown",
      "source": [
        "## Documentation"
      ],
      "metadata": {
        "id": "OEFrix2_bGuC"
      }
    },
    {
      "cell_type": "markdown",
      "source": [
        "\n",
        "For more info on how to use Kili Python SDK, please use our [documentation](https://python-sdk-docs.kili-technology.com/2.125/). The SDK allows you to do much more than creating predictions. You can prioritize assets, query your labels, update your project etc...\n",
        "\n",
        "\n",
        "For a broader look on how to use Kili, you can visit the [general documentation](https://docs.kili-technology.com/docs)"
      ],
      "metadata": {
        "id": "4NuahTG6agGO"
      }
    },
    {
      "cell_type": "code",
      "source": [],
      "metadata": {
        "id": "5SLT279DbCb9"
      },
      "execution_count": null,
      "outputs": []
    },
    {
      "cell_type": "markdown",
      "source": [
        "# How to win the challenge ?\n",
        "\n",
        "The Ocean Cleanup challenge is about helping to clean the ocean but it is also a competition! So how can you win prizes and Robin's gratitude ?\n",
        "\n",
        "The main prize is given by a score of 70% of number of annotated assets and 30% of label quality. \n",
        "But there is also a bonus competition for the best predictions. At the end of the challenge, if your project has predictions, we will consider the last uplaoded predictions. We will compare them to honeypot labels or other teams manually labeled assets.\n",
        "\n",
        "**The team with the best predictions will also get a prize!**. We will also be sensitive to your Weight and baises dashboard. At the end of the challenge, you can clean and send us on slack your Weight and Biases dashboard, this will give you a big bonus!\n",
        "\n",
        "\n"
      ],
      "metadata": {
        "id": "UAgqXz8se355"
      }
    }
  ]
}